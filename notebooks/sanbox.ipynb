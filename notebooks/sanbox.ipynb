{
 "cells": [
  {
   "cell_type": "markdown",
   "id": "5a901937-bf0e-44f4-b7fb-5b93f75a9af4",
   "metadata": {},
   "source": [
    "# Sandbox of stuff we'd like to remember\n",
    "## (anything goes)"
   ]
  },
  {
   "cell_type": "markdown",
   "id": "0714ab3d-4de6-42b0-8be7-e25c880f74c5",
   "metadata": {},
   "source": [
    "---\n",
    "### Can use and define python as accustomed to"
   ]
  },
  {
   "cell_type": "code",
   "execution_count": 1,
   "id": "34aa4c04-577c-45ca-ba88-f7a9bebfe7fc",
   "metadata": {},
   "outputs": [],
   "source": [
    "def all_lines():\n",
    "    return 123"
   ]
  },
  {
   "cell_type": "code",
   "execution_count": 3,
   "id": "a6854338-cfd6-4bf4-ad90-3aa5be04c6df",
   "metadata": {},
   "outputs": [
    {
     "data": {
      "text/plain": [
       "123"
      ]
     },
     "execution_count": 3,
     "metadata": {},
     "output_type": "execute_result"
    }
   ],
   "source": [
    "all_lines()"
   ]
  },
  {
   "cell_type": "code",
   "execution_count": null,
   "id": "08ba9905-597e-4523-bf77-5d4149e0b1fa",
   "metadata": {},
   "outputs": [],
   "source": []
  }
 ],
 "metadata": {
  "kernelspec": {
   "display_name": "SageMath 10.5",
   "language": "sage",
   "name": "sagemath"
  },
  "language_info": {
   "codemirror_mode": {
    "name": "ipython",
    "version": 3
   },
   "file_extension": ".py",
   "mimetype": "text/x-python",
   "name": "python",
   "nbconvert_exporter": "python",
   "pygments_lexer": "ipython3",
   "version": "3.12.5"
  }
 },
 "nbformat": 4,
 "nbformat_minor": 5
}
